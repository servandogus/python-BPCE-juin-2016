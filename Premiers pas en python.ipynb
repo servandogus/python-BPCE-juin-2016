{
 "cells": [
  {
   "cell_type": "markdown",
   "metadata": {},
   "source": [
    "# Premiers pas en python"
   ]
  },
  {
   "cell_type": "code",
   "execution_count": 28,
   "metadata": {
    "collapsed": false
   },
   "outputs": [
    {
     "name": "stdout",
     "output_type": "stream",
     "text": [
      "<type 'int'> <type 'float'> <type 'bool'> <type 'str'>\n"
     ]
    }
   ],
   "source": [
    "#Définir quatre variables distinctes, un entier, un float, \n",
    "#un booléen et une chaîne de caractère et affichez-les dans la console.\n",
    "a=2\n",
    "b=3.4\n",
    "c=True\n",
    "d=\"python\"\n",
    "a\n",
    "print type(a), type(b),type(c),type(d)"
   ]
  },
  {
   "cell_type": "code",
   "execution_count": 29,
   "metadata": {
    "collapsed": false
   },
   "outputs": [
    {
     "data": {
      "text/plain": [
       "6"
      ]
     },
     "execution_count": 29,
     "metadata": {},
     "output_type": "execute_result"
    }
   ],
   "source": [
    "len(d)"
   ]
  },
  {
   "cell_type": "code",
   "execution_count": 30,
   "metadata": {
    "collapsed": false
   },
   "outputs": [
    {
     "name": "stdout",
     "output_type": "stream",
     "text": [
      "PYTHON POUR LA DATA SCIENCE\n"
     ]
    }
   ],
   "source": [
    "#Définir une variable comprenant la chaîne ‘Python pour la Science’, \n",
    "#utilisez des opérations sur les chaînes pour afficher ‘PYTHON POUR LA DATA SCIENCE’\n",
    "str1=\"Python pour la Science\"\n",
    "str2=str1.upper()\n",
    "print str2[:14], 'DATA', str2[15:]"
   ]
  },
  {
   "cell_type": "code",
   "execution_count": 31,
   "metadata": {
    "collapsed": false
   },
   "outputs": [
    {
     "data": {
      "text/plain": [
       "'Python pour la data science et la DADA'"
      ]
     },
     "execution_count": 31,
     "metadata": {},
     "output_type": "execute_result"
    }
   ],
   "source": [
    "str1= \"Python pour la %s science et la %s\" % (\"data\", \"DADA\")\n",
    "str1"
   ]
  },
  {
   "cell_type": "code",
   "execution_count": 32,
   "metadata": {
    "collapsed": false
   },
   "outputs": [
    {
     "name": "stdout",
     "output_type": "stream",
     "text": [
      "22\n"
     ]
    }
   ],
   "source": [
    "#Créez une fonction avec un booléen en entrée qui affiche une valeur \n",
    "#différente en fonction du booléen entré.\n",
    "def fonc1(b1):\n",
    "    if b1==True:\n",
    "        print 22\n",
    "    else:\n",
    "        print 33\n",
    "\n",
    "        \n",
    "fonc1(True)"
   ]
  },
  {
   "cell_type": "code",
   "execution_count": 33,
   "metadata": {
    "collapsed": false
   },
   "outputs": [
    {
     "name": "stdout",
     "output_type": "stream",
     "text": [
      "6\n"
     ]
    }
   ],
   "source": [
    "#Créez une boucle for qui parcourt un range de 0 à 5 et qui ajoute 1 à \n",
    "#une variable à chaque boucle\n",
    "x=0\n",
    "for i in range(6):\n",
    "    x+=1\n",
    "\n",
    "print x\n",
    "# x+=1 est equivalent à x=x+1\n",
    "# x*=2 est équivalent à x= 2*x\n"
   ]
  },
  {
   "cell_type": "code",
   "execution_count": 34,
   "metadata": {
    "collapsed": false
   },
   "outputs": [
    {
     "name": "stdout",
     "output_type": "stream",
     "text": [
      "Entrez un nombre :88\n",
      "176\n"
     ]
    }
   ],
   "source": [
    "#Créer une suite de commande, qui demande l’entrée d’un nombre, \n",
    "#multipliez ce nombre par deux et affichez-le en sortie.\n",
    "\n",
    "nb1=input(\"Entrez un nombre :\")\n",
    "print nb1*2\n",
    "\n"
   ]
  },
  {
   "cell_type": "code",
   "execution_count": 35,
   "metadata": {
    "collapsed": false
   },
   "outputs": [
    {
     "data": {
      "text/plain": [
       "5"
      ]
     },
     "execution_count": 35,
     "metadata": {},
     "output_type": "execute_result"
    }
   ],
   "source": [
    "#Créez une liste composée de 5 éléments, affichez la longueur de la liste.\n",
    "list1=[3,5,7,8,9]\n",
    "len(list1)"
   ]
  },
  {
   "cell_type": "code",
   "execution_count": 39,
   "metadata": {
    "collapsed": false
   },
   "outputs": [
    {
     "data": {
      "text/plain": [
       "[7, 8, 33]"
      ]
     },
     "execution_count": 39,
     "metadata": {},
     "output_type": "execute_result"
    }
   ],
   "source": [
    "#Modifiez la dernière valeur de la liste et \n",
    "#construisez une seconde liste à partir des 3 dernières valeurs de la liste initiale.\n",
    "list1[4]=33\n",
    "\n",
    "list2=list1[-3:]\n",
    "list2"
   ]
  },
  {
   "cell_type": "code",
   "execution_count": 40,
   "metadata": {
    "collapsed": false
   },
   "outputs": [
    {
     "data": {
      "text/plain": [
       "['Vive', 'la', 'data', 'science']"
      ]
     },
     "execution_count": 40,
     "metadata": {},
     "output_type": "execute_result"
    }
   ],
   "source": [
    "#Créez la chaîne ‘Vive la data science’, transformez-la en une liste de quatre \n",
    "#éléments.  Ajoutez les valeurs ‘et’ et ‘Python’ à cette liste.  \n",
    "#Affichez la chaîne de caractère obtenue.\n",
    "str1=\"Vive la data science\"\n",
    "list3=str1.split(\" \")\n",
    "list3\n"
   ]
  },
  {
   "cell_type": "code",
   "execution_count": 43,
   "metadata": {
    "collapsed": false
   },
   "outputs": [
    {
     "data": {
      "text/plain": [
       "'Vive la data science et python'"
      ]
     },
     "execution_count": 43,
     "metadata": {},
     "output_type": "execute_result"
    }
   ],
   "source": [
    "list4=list3 + ['et', 'python']\n",
    "str2=\" \".join(list4)\n",
    "str2"
   ]
  },
  {
   "cell_type": "code",
   "execution_count": 45,
   "metadata": {
    "collapsed": false
   },
   "outputs": [
    {
     "data": {
      "text/plain": [
       "3.1"
      ]
     },
     "execution_count": 45,
     "metadata": {},
     "output_type": "execute_result"
    }
   ],
   "source": [
    "#Construire une fonction prenant en entrée deux listes et \n",
    "#qui retourne la moyenne de tous les éléments des deux listes (une seule valeur)\n",
    "def fonc_moy(list1,list2):\n",
    "    moy=0.0\n",
    "    for val in list1+list2:\n",
    "        moy+=val\n",
    "    return moy/float(len(list1+list2))\n",
    "\n",
    "fonc_moy([1,3,5],[2,4.5])"
   ]
  },
  {
   "cell_type": "code",
   "execution_count": 46,
   "metadata": {
    "collapsed": false
   },
   "outputs": [
    {
     "name": "stdout",
     "output_type": "stream",
     "text": [
      "La moyenne des elements des listes [1, 3, 5] et [2, 4.5] est de 3.1\n"
     ]
    }
   ],
   "source": [
    "#Construire une fonction prenant en entrée deux listes et qui affiche la phrase :\n",
    "#‘La moyenne des éléments des listes liste1 et liste2 est de valeur_moyenne’\n",
    "def affiche_moy(list1, list2):\n",
    "    print \"La moyenne des elements des listes %s et %s est de %s\" %(list1, list2,\n",
    "                                                                   fonc_moy(list1,list2))\n",
    "    \n",
    "\n",
    "affiche_moy([1,3,5],[2,4.5])  "
   ]
  }
 ],
 "metadata": {
  "kernelspec": {
   "display_name": "Python 2",
   "language": "python",
   "name": "python2"
  },
  "language_info": {
   "codemirror_mode": {
    "name": "ipython",
    "version": 2
   },
   "file_extension": ".py",
   "mimetype": "text/x-python",
   "name": "python",
   "nbconvert_exporter": "python",
   "pygments_lexer": "ipython2",
   "version": "2.7.11"
  }
 },
 "nbformat": 4,
 "nbformat_minor": 0
}
