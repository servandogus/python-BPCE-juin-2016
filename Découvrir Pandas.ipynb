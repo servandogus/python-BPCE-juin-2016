{
 "cells": [
  {
   "cell_type": "code",
   "execution_count": 2,
   "metadata": {
    "collapsed": true
   },
   "outputs": [],
   "source": [
    "import numpy as np\n",
    "import pandas as pd\n",
    "from pandas import Series, DataFrame"
   ]
  },
  {
   "cell_type": "code",
   "execution_count": 8,
   "metadata": {
    "collapsed": false
   },
   "outputs": [
    {
     "data": {
      "text/plain": [
       "True"
      ]
     },
     "execution_count": 8,
     "metadata": {},
     "output_type": "execute_result"
    }
   ],
   "source": [
    "#Définir un objet Series comprenant la population de 5 pays \n",
    "ser1=Series([70,300,8,45,80],index=[\"France\",\"USA\",\"Suisse\",\"Espagne\",\"Allemagne\"])\n",
    "ser1\n",
    "\n",
    "#puis afficher les pays ayant une population > 50’000’000.\n",
    "ser1[ser1>50]"
   ]
  },
  {
   "cell_type": "code",
   "execution_count": 9,
   "metadata": {
    "collapsed": true
   },
   "outputs": [],
   "source": [
    "ser2=Series([70,300,35],index=[\"France\",\"USA\",\"Italie\"])"
   ]
  },
  {
   "cell_type": "code",
   "execution_count": 10,
   "metadata": {
    "collapsed": false
   },
   "outputs": [
    {
     "data": {
      "text/plain": [
       "Allemagne      NaN\n",
       "Espagne        NaN\n",
       "France       140.0\n",
       "Italie         NaN\n",
       "Suisse         NaN\n",
       "USA          600.0\n",
       "dtype: float64"
      ]
     },
     "execution_count": 10,
     "metadata": {},
     "output_type": "execute_result"
    }
   ],
   "source": [
    "#ajout de series\n",
    "ser1+ser2"
   ]
  },
  {
   "cell_type": "code",
   "execution_count": 14,
   "metadata": {
    "collapsed": false
   },
   "outputs": [
    {
     "data": {
      "text/plain": [
       "Allemagne     80.0\n",
       "Espagne       45.0\n",
       "France       140.0\n",
       "Italie        35.0\n",
       "Suisse         8.0\n",
       "USA          600.0\n",
       "dtype: float64"
      ]
     },
     "execution_count": 14,
     "metadata": {},
     "output_type": "execute_result"
    }
   ],
   "source": [
    "#ajout de series avec une valeur de 0 pour les manquants\n",
    "ser1.add(ser2,fill_value=0)"
   ]
  },
  {
   "cell_type": "code",
   "execution_count": 19,
   "metadata": {
    "collapsed": false
   },
   "outputs": [
    {
     "data": {
      "text/plain": [
       "Pays\n",
       "France        70\n",
       "USA          300\n",
       "Suisse         8\n",
       "Espagne       45\n",
       "Allemagne     80\n",
       "Name: Populations, dtype: int64"
      ]
     },
     "execution_count": 19,
     "metadata": {},
     "output_type": "execute_result"
    }
   ],
   "source": [
    "ser1.name=\"Populations\"\n",
    "ser1.index.name=\"Pays\"\n",
    "ser1"
   ]
  },
  {
   "cell_type": "code",
   "execution_count": 22,
   "metadata": {
    "collapsed": false
   },
   "outputs": [
    {
     "data": {
      "text/html": [
       "<div>\n",
       "<table border=\"1\" class=\"dataframe\">\n",
       "  <thead>\n",
       "    <tr style=\"text-align: right;\">\n",
       "      <th></th>\n",
       "      <th>Prix</th>\n",
       "      <th>Produits</th>\n",
       "    </tr>\n",
       "  </thead>\n",
       "  <tbody>\n",
       "    <tr>\n",
       "      <th>0</th>\n",
       "      <td>3.0</td>\n",
       "      <td>Tomate</td>\n",
       "    </tr>\n",
       "    <tr>\n",
       "      <th>1</th>\n",
       "      <td>8.0</td>\n",
       "      <td>Cerises</td>\n",
       "    </tr>\n",
       "    <tr>\n",
       "      <th>2</th>\n",
       "      <td>2.5</td>\n",
       "      <td>Pommes</td>\n",
       "    </tr>\n",
       "    <tr>\n",
       "      <th>3</th>\n",
       "      <td>1.8</td>\n",
       "      <td>Courgettes</td>\n",
       "    </tr>\n",
       "  </tbody>\n",
       "</table>\n",
       "</div>"
      ],
      "text/plain": [
       "   Prix    Produits\n",
       "0   3.0      Tomate\n",
       "1   8.0     Cerises\n",
       "2   2.5      Pommes\n",
       "3   1.8  Courgettes"
      ]
     },
     "execution_count": 22,
     "metadata": {},
     "output_type": "execute_result"
    }
   ],
   "source": [
    "#Construire un dictionnaire avec des produits et des prix \n",
    "dict1={\"Produits\":[\"Tomate\",\"Cerises\",\"Pommes\", \"Courgettes\"],\"Prix\":[3,8,2.5,1.8]}\n",
    "dict1\n",
    "\n",
    "#puis afficher la DataFrame obtenue en transformant ce dictionnaire\n",
    "frame1=DataFrame(dict1)\n",
    "frame1"
   ]
  },
  {
   "cell_type": "code",
   "execution_count": 23,
   "metadata": {
    "collapsed": false
   },
   "outputs": [
    {
     "data": {
      "text/plain": [
       "True"
      ]
     },
     "execution_count": 23,
     "metadata": {},
     "output_type": "execute_result"
    }
   ],
   "source": [
    "#ouverture d'une page web\n",
    "import webbrowser\n",
    "url=\"https://en.wikipedia.org/wiki/List_of_all-time_NBA_win-loss_records\"\n",
    "webbrowser.open(url)\n"
   ]
  },
  {
   "cell_type": "code",
   "execution_count": 24,
   "metadata": {
    "collapsed": true
   },
   "outputs": [],
   "source": [
    "#récupération depuis le presse papier\n",
    "frameNBA=pd.read_clipboard()"
   ]
  },
  {
   "cell_type": "code",
   "execution_count": 28,
   "metadata": {
    "collapsed": false
   },
   "outputs": [],
   "source": [
    "#importation depuis un csv\n",
    "frameNBA=pd.read_csv(\"NBA1.csv\", sep=\";\")"
   ]
  },
  {
   "cell_type": "code",
   "execution_count": 30,
   "metadata": {
    "collapsed": false
   },
   "outputs": [
    {
     "name": "stdout",
     "output_type": "stream",
     "text": [
      "<class 'pandas.core.frame.DataFrame'>\n",
      "RangeIndex: 30 entries, 0 to 29\n",
      "Data columns (total 8 columns):\n",
      "Rank                30 non-null int64\n",
      "Team                30 non-null object\n",
      "Won                 30 non-null object\n",
      "Lost                30 non-null object\n",
      "Pct.                30 non-null float64\n",
      "First NBA Season    30 non-null object\n",
      "Total Games         30 non-null object\n",
      "Division            30 non-null object\n",
      "dtypes: float64(1), int64(1), object(6)\n",
      "memory usage: 1.9+ KB\n"
     ]
    }
   ],
   "source": [
    "#info sur les variables\n",
    "frameNBA.info()"
   ]
  },
  {
   "cell_type": "code",
   "execution_count": 31,
   "metadata": {
    "collapsed": false
   },
   "outputs": [
    {
     "data": {
      "text/html": [
       "<div>\n",
       "<table border=\"1\" class=\"dataframe\">\n",
       "  <thead>\n",
       "    <tr style=\"text-align: right;\">\n",
       "      <th></th>\n",
       "      <th>Rank</th>\n",
       "      <th>Team</th>\n",
       "      <th>Won</th>\n",
       "      <th>Lost</th>\n",
       "      <th>Pct.</th>\n",
       "      <th>First NBA Season</th>\n",
       "      <th>Total Games</th>\n",
       "      <th>Division</th>\n",
       "    </tr>\n",
       "  </thead>\n",
       "  <tbody>\n",
       "    <tr>\n",
       "      <th>0</th>\n",
       "      <td>1</td>\n",
       "      <td>San Antonio Spurs</td>\n",
       "      <td>2,006</td>\n",
       "      <td>1,226</td>\n",
       "      <td>0.621</td>\n",
       "      <td>1976?77</td>\n",
       "      <td>3,232</td>\n",
       "      <td>Southwest</td>\n",
       "    </tr>\n",
       "    <tr>\n",
       "      <th>1</th>\n",
       "      <td>2</td>\n",
       "      <td>Los Angeles Lakers</td>\n",
       "      <td>3,235</td>\n",
       "      <td>2,134</td>\n",
       "      <td>0.603</td>\n",
       "      <td>1948?49</td>\n",
       "      <td>5,369</td>\n",
       "      <td>Pacific</td>\n",
       "    </tr>\n",
       "    <tr>\n",
       "      <th>2</th>\n",
       "      <td>3</td>\n",
       "      <td>Boston Celtics</td>\n",
       "      <td>3,221</td>\n",
       "      <td>2,257</td>\n",
       "      <td>0.588</td>\n",
       "      <td>1946?47</td>\n",
       "      <td>5,478</td>\n",
       "      <td>Atlantic</td>\n",
       "    </tr>\n",
       "    <tr>\n",
       "      <th>3</th>\n",
       "      <td>4</td>\n",
       "      <td>Phoenix Suns</td>\n",
       "      <td>2,122</td>\n",
       "      <td>1,766</td>\n",
       "      <td>0.546</td>\n",
       "      <td>1968?69</td>\n",
       "      <td>3,888</td>\n",
       "      <td>Pacific</td>\n",
       "    </tr>\n",
       "    <tr>\n",
       "      <th>4</th>\n",
       "      <td>5</td>\n",
       "      <td>Oklahoma City Thunder</td>\n",
       "      <td>2,139</td>\n",
       "      <td>1,831</td>\n",
       "      <td>0.539</td>\n",
       "      <td>1967?68</td>\n",
       "      <td>3,97</td>\n",
       "      <td>Northwest</td>\n",
       "    </tr>\n",
       "  </tbody>\n",
       "</table>\n",
       "</div>"
      ],
      "text/plain": [
       "   Rank                   Team    Won   Lost   Pct. First NBA Season  \\\n",
       "0     1      San Antonio Spurs  2,006  1,226  0.621          1976?77   \n",
       "1     2     Los Angeles Lakers  3,235  2,134  0.603          1948?49   \n",
       "2     3         Boston Celtics  3,221  2,257  0.588          1946?47   \n",
       "3     4           Phoenix Suns  2,122  1,766  0.546          1968?69   \n",
       "4     5  Oklahoma City Thunder  2,139  1,831  0.539          1967?68   \n",
       "\n",
       "  Total Games   Division  \n",
       "0       3,232  Southwest  \n",
       "1       5,369    Pacific  \n",
       "2       5,478   Atlantic  \n",
       "3       3,888    Pacific  \n",
       "4        3,97  Northwest  "
      ]
     },
     "execution_count": 31,
     "metadata": {},
     "output_type": "execute_result"
    }
   ],
   "source": [
    "frameNBA.head()"
   ]
  },
  {
   "cell_type": "code",
   "execution_count": 48,
   "metadata": {
    "collapsed": false
   },
   "outputs": [],
   "source": [
    "#préparation des données (nettoyage)\n",
    "varname=[\"Won\",\"Lost\",\"Total Games\"]\n",
    "for name in varname:\n",
    "    frameNBA[name]=frameNBA[name].str.replace(\",\",\"\")\n",
    "    frameNBA[name]=pd.to_numeric(frameNBA[name])"
   ]
  },
  {
   "cell_type": "code",
   "execution_count": 55,
   "metadata": {
    "collapsed": false,
    "scrolled": true
   },
   "outputs": [
    {
     "data": {
      "text/html": [
       "<div>\n",
       "<table border=\"1\" class=\"dataframe\">\n",
       "  <thead>\n",
       "    <tr style=\"text-align: right;\">\n",
       "      <th></th>\n",
       "      <th>Rank</th>\n",
       "      <th>Team</th>\n",
       "      <th>Won</th>\n",
       "      <th>Lost</th>\n",
       "      <th>Pct.</th>\n",
       "      <th>First NBA Season</th>\n",
       "      <th>Total Games</th>\n",
       "      <th>Division</th>\n",
       "    </tr>\n",
       "  </thead>\n",
       "  <tbody>\n",
       "    <tr>\n",
       "      <th>count</th>\n",
       "      <td>30.000000</td>\n",
       "      <td>30</td>\n",
       "      <td>30.000000</td>\n",
       "      <td>30.000000</td>\n",
       "      <td>30.000000</td>\n",
       "      <td>30</td>\n",
       "      <td>30.000000</td>\n",
       "      <td>30</td>\n",
       "    </tr>\n",
       "    <tr>\n",
       "      <th>unique</th>\n",
       "      <td>NaN</td>\n",
       "      <td>30</td>\n",
       "      <td>NaN</td>\n",
       "      <td>NaN</td>\n",
       "      <td>NaN</td>\n",
       "      <td>15</td>\n",
       "      <td>NaN</td>\n",
       "      <td>6</td>\n",
       "    </tr>\n",
       "    <tr>\n",
       "      <th>top</th>\n",
       "      <td>NaN</td>\n",
       "      <td>Denver Nuggets</td>\n",
       "      <td>NaN</td>\n",
       "      <td>NaN</td>\n",
       "      <td>NaN</td>\n",
       "      <td>1976?77</td>\n",
       "      <td>NaN</td>\n",
       "      <td>Southwest</td>\n",
       "    </tr>\n",
       "    <tr>\n",
       "      <th>freq</th>\n",
       "      <td>NaN</td>\n",
       "      <td>1</td>\n",
       "      <td>NaN</td>\n",
       "      <td>NaN</td>\n",
       "      <td>NaN</td>\n",
       "      <td>4</td>\n",
       "      <td>NaN</td>\n",
       "      <td>5</td>\n",
       "    </tr>\n",
       "    <tr>\n",
       "      <th>mean</th>\n",
       "      <td>15.500000</td>\n",
       "      <td>NaN</td>\n",
       "      <td>1619.866667</td>\n",
       "      <td>1843.833333</td>\n",
       "      <td>0.494000</td>\n",
       "      <td>NaN</td>\n",
       "      <td>3458.600000</td>\n",
       "      <td>NaN</td>\n",
       "    </tr>\n",
       "    <tr>\n",
       "      <th>std</th>\n",
       "      <td>8.803408</td>\n",
       "      <td>NaN</td>\n",
       "      <td>895.784870</td>\n",
       "      <td>632.949804</td>\n",
       "      <td>0.056163</td>\n",
       "      <td>NaN</td>\n",
       "      <td>1549.510637</td>\n",
       "      <td>NaN</td>\n",
       "    </tr>\n",
       "    <tr>\n",
       "      <th>min</th>\n",
       "      <td>1.000000</td>\n",
       "      <td>NaN</td>\n",
       "      <td>117.000000</td>\n",
       "      <td>604.000000</td>\n",
       "      <td>0.391000</td>\n",
       "      <td>NaN</td>\n",
       "      <td>397.000000</td>\n",
       "      <td>NaN</td>\n",
       "    </tr>\n",
       "    <tr>\n",
       "      <th>25%</th>\n",
       "      <td>8.250000</td>\n",
       "      <td>NaN</td>\n",
       "      <td>864.250000</td>\n",
       "      <td>1344.750000</td>\n",
       "      <td>0.460250</td>\n",
       "      <td>NaN</td>\n",
       "      <td>2186.500000</td>\n",
       "      <td>NaN</td>\n",
       "    </tr>\n",
       "    <tr>\n",
       "      <th>50%</th>\n",
       "      <td>15.500000</td>\n",
       "      <td>NaN</td>\n",
       "      <td>1771.500000</td>\n",
       "      <td>1851.500000</td>\n",
       "      <td>0.495000</td>\n",
       "      <td>NaN</td>\n",
       "      <td>3560.000000</td>\n",
       "      <td>NaN</td>\n",
       "    </tr>\n",
       "    <tr>\n",
       "      <th>75%</th>\n",
       "      <td>22.750000</td>\n",
       "      <td>NaN</td>\n",
       "      <td>2120.250000</td>\n",
       "      <td>2256.500000</td>\n",
       "      <td>0.521500</td>\n",
       "      <td>NaN</td>\n",
       "      <td>5090.750000</td>\n",
       "      <td>NaN</td>\n",
       "    </tr>\n",
       "    <tr>\n",
       "      <th>max</th>\n",
       "      <td>30.000000</td>\n",
       "      <td>NaN</td>\n",
       "      <td>3235.000000</td>\n",
       "      <td>2905.000000</td>\n",
       "      <td>0.621000</td>\n",
       "      <td>NaN</td>\n",
       "      <td>5478.000000</td>\n",
       "      <td>NaN</td>\n",
       "    </tr>\n",
       "  </tbody>\n",
       "</table>\n",
       "</div>"
      ],
      "text/plain": [
       "             Rank            Team          Won         Lost       Pct.  \\\n",
       "count   30.000000              30    30.000000    30.000000  30.000000   \n",
       "unique        NaN              30          NaN          NaN        NaN   \n",
       "top           NaN  Denver Nuggets          NaN          NaN        NaN   \n",
       "freq          NaN               1          NaN          NaN        NaN   \n",
       "mean    15.500000             NaN  1619.866667  1843.833333   0.494000   \n",
       "std      8.803408             NaN   895.784870   632.949804   0.056163   \n",
       "min      1.000000             NaN   117.000000   604.000000   0.391000   \n",
       "25%      8.250000             NaN   864.250000  1344.750000   0.460250   \n",
       "50%     15.500000             NaN  1771.500000  1851.500000   0.495000   \n",
       "75%     22.750000             NaN  2120.250000  2256.500000   0.521500   \n",
       "max     30.000000             NaN  3235.000000  2905.000000   0.621000   \n",
       "\n",
       "       First NBA Season  Total Games   Division  \n",
       "count                30    30.000000         30  \n",
       "unique               15          NaN          6  \n",
       "top             1976?77          NaN  Southwest  \n",
       "freq                  4          NaN          5  \n",
       "mean                NaN  3458.600000        NaN  \n",
       "std                 NaN  1549.510637        NaN  \n",
       "min                 NaN   397.000000        NaN  \n",
       "25%                 NaN  2186.500000        NaN  \n",
       "50%                 NaN  3560.000000        NaN  \n",
       "75%                 NaN  5090.750000        NaN  \n",
       "max                 NaN  5478.000000        NaN  "
      ]
     },
     "execution_count": 55,
     "metadata": {},
     "output_type": "execute_result"
    }
   ],
   "source": [
    "#résumé de toutes les variables (quanti et quali)\n",
    "frameNBA.describe(include=\"all\")"
   ]
  },
  {
   "cell_type": "code",
   "execution_count": 62,
   "metadata": {
    "collapsed": false
   },
   "outputs": [
    {
     "name": "stderr",
     "output_type": "stream",
     "text": [
      "C:\\Anaconda2\\lib\\site-packages\\ipykernel\\__main__.py:1: FutureWarning: sort(columns=....) is deprecated, use sort_values(by=.....)\n",
      "  if __name__ == '__main__':\n"
     ]
    },
    {
     "data": {
      "text/html": [
       "<div>\n",
       "<table border=\"1\" class=\"dataframe\">\n",
       "  <thead>\n",
       "    <tr style=\"text-align: right;\">\n",
       "      <th></th>\n",
       "      <th>Rank</th>\n",
       "      <th>Team</th>\n",
       "      <th>Won</th>\n",
       "      <th>Lost</th>\n",
       "      <th>Pct.</th>\n",
       "      <th>First NBA Season</th>\n",
       "      <th>Total Games</th>\n",
       "      <th>Division</th>\n",
       "    </tr>\n",
       "  </thead>\n",
       "  <tbody>\n",
       "    <tr>\n",
       "      <th>0</th>\n",
       "      <td>1</td>\n",
       "      <td>San Antonio Spurs</td>\n",
       "      <td>2006</td>\n",
       "      <td>1226</td>\n",
       "      <td>0.621</td>\n",
       "      <td>1976?77</td>\n",
       "      <td>3232</td>\n",
       "      <td>Southwest</td>\n",
       "    </tr>\n",
       "    <tr>\n",
       "      <th>9</th>\n",
       "      <td>10</td>\n",
       "      <td>Houston Rockets</td>\n",
       "      <td>2052</td>\n",
       "      <td>1918</td>\n",
       "      <td>0.517</td>\n",
       "      <td>1967?68</td>\n",
       "      <td>397</td>\n",
       "      <td>Southwest</td>\n",
       "    </tr>\n",
       "    <tr>\n",
       "      <th>11</th>\n",
       "      <td>12</td>\n",
       "      <td>Dallas Mavericks</td>\n",
       "      <td>1482</td>\n",
       "      <td>1422</td>\n",
       "      <td>0.510</td>\n",
       "      <td>1980?81</td>\n",
       "      <td>2904</td>\n",
       "      <td>Southwest</td>\n",
       "    </tr>\n",
       "    <tr>\n",
       "      <th>20</th>\n",
       "      <td>21</td>\n",
       "      <td>New Orleans Pelicans</td>\n",
       "      <td>528</td>\n",
       "      <td>604</td>\n",
       "      <td>0.466</td>\n",
       "      <td>2002?03</td>\n",
       "      <td>1132</td>\n",
       "      <td>Southwest</td>\n",
       "    </tr>\n",
       "    <tr>\n",
       "      <th>27</th>\n",
       "      <td>28</td>\n",
       "      <td>Memphis Grizzlies</td>\n",
       "      <td>694</td>\n",
       "      <td>980</td>\n",
       "      <td>0.415</td>\n",
       "      <td>1995?96</td>\n",
       "      <td>1674</td>\n",
       "      <td>Southwest</td>\n",
       "    </tr>\n",
       "    <tr>\n",
       "      <th>8</th>\n",
       "      <td>9</td>\n",
       "      <td>Miami Heat</td>\n",
       "      <td>117</td>\n",
       "      <td>1078</td>\n",
       "      <td>0.520</td>\n",
       "      <td>1988?89</td>\n",
       "      <td>2248</td>\n",
       "      <td>Southeast</td>\n",
       "    </tr>\n",
       "    <tr>\n",
       "      <th>13</th>\n",
       "      <td>14</td>\n",
       "      <td>Atlanta Hawks</td>\n",
       "      <td>265</td>\n",
       "      <td>2656</td>\n",
       "      <td>0.499</td>\n",
       "      <td>1949?50</td>\n",
       "      <td>5306</td>\n",
       "      <td>Southeast</td>\n",
       "    </tr>\n",
       "    <tr>\n",
       "      <th>16</th>\n",
       "      <td>17</td>\n",
       "      <td>Orlando Magic</td>\n",
       "      <td>1062</td>\n",
       "      <td>1104</td>\n",
       "      <td>0.490</td>\n",
       "      <td>1989?90</td>\n",
       "      <td>2166</td>\n",
       "      <td>Southeast</td>\n",
       "    </tr>\n",
       "    <tr>\n",
       "      <th>23</th>\n",
       "      <td>24</td>\n",
       "      <td>Washington Wizards</td>\n",
       "      <td>2004</td>\n",
       "      <td>2447</td>\n",
       "      <td>0.450</td>\n",
       "      <td>1961?62</td>\n",
       "      <td>4451</td>\n",
       "      <td>Southeast</td>\n",
       "    </tr>\n",
       "    <tr>\n",
       "      <th>24</th>\n",
       "      <td>25</td>\n",
       "      <td>Charlotte Hornets</td>\n",
       "      <td>916</td>\n",
       "      <td>1168</td>\n",
       "      <td>0.440</td>\n",
       "      <td>1988?89</td>\n",
       "      <td>2084</td>\n",
       "      <td>Southeast</td>\n",
       "    </tr>\n",
       "    <tr>\n",
       "      <th>1</th>\n",
       "      <td>2</td>\n",
       "      <td>Los Angeles Lakers</td>\n",
       "      <td>3235</td>\n",
       "      <td>2134</td>\n",
       "      <td>0.603</td>\n",
       "      <td>1948?49</td>\n",
       "      <td>5369</td>\n",
       "      <td>Pacific</td>\n",
       "    </tr>\n",
       "    <tr>\n",
       "      <th>3</th>\n",
       "      <td>4</td>\n",
       "      <td>Phoenix Suns</td>\n",
       "      <td>2122</td>\n",
       "      <td>1766</td>\n",
       "      <td>0.546</td>\n",
       "      <td>1968?69</td>\n",
       "      <td>3888</td>\n",
       "      <td>Pacific</td>\n",
       "    </tr>\n",
       "    <tr>\n",
       "      <th>19</th>\n",
       "      <td>20</td>\n",
       "      <td>Golden State Warriors</td>\n",
       "      <td>259</td>\n",
       "      <td>2884</td>\n",
       "      <td>0.473</td>\n",
       "      <td>1946?47</td>\n",
       "      <td>5474</td>\n",
       "      <td>Pacific</td>\n",
       "    </tr>\n",
       "    <tr>\n",
       "      <th>22</th>\n",
       "      <td>23</td>\n",
       "      <td>Sacramento Kings</td>\n",
       "      <td>2464</td>\n",
       "      <td>2905</td>\n",
       "      <td>0.459</td>\n",
       "      <td>1948?49</td>\n",
       "      <td>5369</td>\n",
       "      <td>Pacific</td>\n",
       "    </tr>\n",
       "    <tr>\n",
       "      <th>28</th>\n",
       "      <td>29</td>\n",
       "      <td>Los Angeles Clippers</td>\n",
       "      <td>1469</td>\n",
       "      <td>2255</td>\n",
       "      <td>0.394</td>\n",
       "      <td>1970?71</td>\n",
       "      <td>3724</td>\n",
       "      <td>Pacific</td>\n",
       "    </tr>\n",
       "    <tr>\n",
       "      <th>4</th>\n",
       "      <td>5</td>\n",
       "      <td>Oklahoma City Thunder</td>\n",
       "      <td>2139</td>\n",
       "      <td>1831</td>\n",
       "      <td>0.539</td>\n",
       "      <td>1967?68</td>\n",
       "      <td>397</td>\n",
       "      <td>Northwest</td>\n",
       "    </tr>\n",
       "    <tr>\n",
       "      <th>5</th>\n",
       "      <td>6</td>\n",
       "      <td>Portland Trail Blazers</td>\n",
       "      <td>1991</td>\n",
       "      <td>1733</td>\n",
       "      <td>0.535</td>\n",
       "      <td>1970?71</td>\n",
       "      <td>3724</td>\n",
       "      <td>Northwest</td>\n",
       "    </tr>\n",
       "    <tr>\n",
       "      <th>6</th>\n",
       "      <td>7</td>\n",
       "      <td>Utah Jazz</td>\n",
       "      <td>1815</td>\n",
       "      <td>1581</td>\n",
       "      <td>0.534</td>\n",
       "      <td>1974?75</td>\n",
       "      <td>3396</td>\n",
       "      <td>Northwest</td>\n",
       "    </tr>\n",
       "    <tr>\n",
       "      <th>18</th>\n",
       "      <td>19</td>\n",
       "      <td>Denver Nuggets</td>\n",
       "      <td>1563</td>\n",
       "      <td>1669</td>\n",
       "      <td>0.484</td>\n",
       "      <td>1976?77</td>\n",
       "      <td>3232</td>\n",
       "      <td>Northwest</td>\n",
       "    </tr>\n",
       "    <tr>\n",
       "      <th>29</th>\n",
       "      <td>30</td>\n",
       "      <td>Minnesota Timberwolves</td>\n",
       "      <td>847</td>\n",
       "      <td>1319</td>\n",
       "      <td>0.391</td>\n",
       "      <td>1989?90</td>\n",
       "      <td>2166</td>\n",
       "      <td>Northwest</td>\n",
       "    </tr>\n",
       "    <tr>\n",
       "      <th>7</th>\n",
       "      <td>8</td>\n",
       "      <td>Chicago Bulls</td>\n",
       "      <td>2115</td>\n",
       "      <td>1936</td>\n",
       "      <td>0.522</td>\n",
       "      <td>1966?67</td>\n",
       "      <td>4051</td>\n",
       "      <td>Central</td>\n",
       "    </tr>\n",
       "    <tr>\n",
       "      <th>12</th>\n",
       "      <td>13</td>\n",
       "      <td>Milwaukee Bucks</td>\n",
       "      <td>1983</td>\n",
       "      <td>1905</td>\n",
       "      <td>0.510</td>\n",
       "      <td>1968?69</td>\n",
       "      <td>3888</td>\n",
       "      <td>Central</td>\n",
       "    </tr>\n",
       "    <tr>\n",
       "      <th>14</th>\n",
       "      <td>15</td>\n",
       "      <td>Indiana Pacers</td>\n",
       "      <td>1606</td>\n",
       "      <td>1625</td>\n",
       "      <td>0.497</td>\n",
       "      <td>1976?77</td>\n",
       "      <td>3231</td>\n",
       "      <td>Central</td>\n",
       "    </tr>\n",
       "    <tr>\n",
       "      <th>17</th>\n",
       "      <td>18</td>\n",
       "      <td>Detroit Pistons</td>\n",
       "      <td>2616</td>\n",
       "      <td>2752</td>\n",
       "      <td>0.487</td>\n",
       "      <td>1948?49</td>\n",
       "      <td>5368</td>\n",
       "      <td>Central</td>\n",
       "    </tr>\n",
       "    <tr>\n",
       "      <th>21</th>\n",
       "      <td>22</td>\n",
       "      <td>Cleveland Cavaliers</td>\n",
       "      <td>1728</td>\n",
       "      <td>1996</td>\n",
       "      <td>0.464</td>\n",
       "      <td>1970?71</td>\n",
       "      <td>3724</td>\n",
       "      <td>Central</td>\n",
       "    </tr>\n",
       "    <tr>\n",
       "      <th>2</th>\n",
       "      <td>3</td>\n",
       "      <td>Boston Celtics</td>\n",
       "      <td>3221</td>\n",
       "      <td>2257</td>\n",
       "      <td>0.588</td>\n",
       "      <td>1946?47</td>\n",
       "      <td>5478</td>\n",
       "      <td>Atlantic</td>\n",
       "    </tr>\n",
       "    <tr>\n",
       "      <th>10</th>\n",
       "      <td>11</td>\n",
       "      <td>Philadelphia 76ers</td>\n",
       "      <td>2726</td>\n",
       "      <td>2578</td>\n",
       "      <td>0.514</td>\n",
       "      <td>1949?50</td>\n",
       "      <td>5304</td>\n",
       "      <td>Atlantic</td>\n",
       "    </tr>\n",
       "    <tr>\n",
       "      <th>15</th>\n",
       "      <td>16</td>\n",
       "      <td>New York Knicks</td>\n",
       "      <td>2701</td>\n",
       "      <td>2774</td>\n",
       "      <td>0.493</td>\n",
       "      <td>1946?47</td>\n",
       "      <td>5475</td>\n",
       "      <td>Atlantic</td>\n",
       "    </tr>\n",
       "    <tr>\n",
       "      <th>25</th>\n",
       "      <td>26</td>\n",
       "      <td>Toronto Raptors</td>\n",
       "      <td>734</td>\n",
       "      <td>940</td>\n",
       "      <td>0.438</td>\n",
       "      <td>1995?96</td>\n",
       "      <td>1674</td>\n",
       "      <td>Atlantic</td>\n",
       "    </tr>\n",
       "    <tr>\n",
       "      <th>26</th>\n",
       "      <td>27</td>\n",
       "      <td>Brooklyn Nets</td>\n",
       "      <td>136</td>\n",
       "      <td>1872</td>\n",
       "      <td>0.421</td>\n",
       "      <td>1976?77</td>\n",
       "      <td>3232</td>\n",
       "      <td>Atlantic</td>\n",
       "    </tr>\n",
       "  </tbody>\n",
       "</table>\n",
       "</div>"
      ],
      "text/plain": [
       "    Rank                    Team   Won  Lost   Pct. First NBA Season  \\\n",
       "0      1       San Antonio Spurs  2006  1226  0.621          1976?77   \n",
       "9     10         Houston Rockets  2052  1918  0.517          1967?68   \n",
       "11    12        Dallas Mavericks  1482  1422  0.510          1980?81   \n",
       "20    21    New Orleans Pelicans   528   604  0.466          2002?03   \n",
       "27    28       Memphis Grizzlies   694   980  0.415          1995?96   \n",
       "8      9              Miami Heat   117  1078  0.520          1988?89   \n",
       "13    14           Atlanta Hawks   265  2656  0.499          1949?50   \n",
       "16    17           Orlando Magic  1062  1104  0.490          1989?90   \n",
       "23    24      Washington Wizards  2004  2447  0.450          1961?62   \n",
       "24    25       Charlotte Hornets   916  1168  0.440          1988?89   \n",
       "1      2      Los Angeles Lakers  3235  2134  0.603          1948?49   \n",
       "3      4            Phoenix Suns  2122  1766  0.546          1968?69   \n",
       "19    20   Golden State Warriors   259  2884  0.473          1946?47   \n",
       "22    23        Sacramento Kings  2464  2905  0.459          1948?49   \n",
       "28    29    Los Angeles Clippers  1469  2255  0.394          1970?71   \n",
       "4      5   Oklahoma City Thunder  2139  1831  0.539          1967?68   \n",
       "5      6  Portland Trail Blazers  1991  1733  0.535          1970?71   \n",
       "6      7               Utah Jazz  1815  1581  0.534          1974?75   \n",
       "18    19          Denver Nuggets  1563  1669  0.484          1976?77   \n",
       "29    30  Minnesota Timberwolves   847  1319  0.391          1989?90   \n",
       "7      8           Chicago Bulls  2115  1936  0.522          1966?67   \n",
       "12    13         Milwaukee Bucks  1983  1905  0.510          1968?69   \n",
       "14    15          Indiana Pacers  1606  1625  0.497          1976?77   \n",
       "17    18         Detroit Pistons  2616  2752  0.487          1948?49   \n",
       "21    22     Cleveland Cavaliers  1728  1996  0.464          1970?71   \n",
       "2      3          Boston Celtics  3221  2257  0.588          1946?47   \n",
       "10    11      Philadelphia 76ers  2726  2578  0.514          1949?50   \n",
       "15    16         New York Knicks  2701  2774  0.493          1946?47   \n",
       "25    26         Toronto Raptors   734   940  0.438          1995?96   \n",
       "26    27           Brooklyn Nets   136  1872  0.421          1976?77   \n",
       "\n",
       "    Total Games   Division  \n",
       "0          3232  Southwest  \n",
       "9           397  Southwest  \n",
       "11         2904  Southwest  \n",
       "20         1132  Southwest  \n",
       "27         1674  Southwest  \n",
       "8          2248  Southeast  \n",
       "13         5306  Southeast  \n",
       "16         2166  Southeast  \n",
       "23         4451  Southeast  \n",
       "24         2084  Southeast  \n",
       "1          5369    Pacific  \n",
       "3          3888    Pacific  \n",
       "19         5474    Pacific  \n",
       "22         5369    Pacific  \n",
       "28         3724    Pacific  \n",
       "4           397  Northwest  \n",
       "5          3724  Northwest  \n",
       "6          3396  Northwest  \n",
       "18         3232  Northwest  \n",
       "29         2166  Northwest  \n",
       "7          4051    Central  \n",
       "12         3888    Central  \n",
       "14         3231    Central  \n",
       "17         5368    Central  \n",
       "21         3724    Central  \n",
       "2          5478   Atlantic  \n",
       "10         5304   Atlantic  \n",
       "15         5475   Atlantic  \n",
       "25         1674   Atlantic  \n",
       "26         3232   Atlantic  "
      ]
     },
     "execution_count": 62,
     "metadata": {},
     "output_type": "execute_result"
    }
   ],
   "source": [
    "#tri à deux clés\n",
    "frameNBA=frameNBA.sort(columns=[\"Division\",\"Pct.\"],ascending=False)"
   ]
  },
  {
   "cell_type": "code",
   "execution_count": 64,
   "metadata": {
    "collapsed": false
   },
   "outputs": [
    {
     "data": {
      "text/html": [
       "<div>\n",
       "<table border=\"1\" class=\"dataframe\">\n",
       "  <thead>\n",
       "    <tr style=\"text-align: right;\">\n",
       "      <th></th>\n",
       "      <th>Rank</th>\n",
       "      <th>Won</th>\n",
       "      <th>Lost</th>\n",
       "      <th>Pct.</th>\n",
       "      <th>Total Games</th>\n",
       "    </tr>\n",
       "  </thead>\n",
       "  <tbody>\n",
       "    <tr>\n",
       "      <th>Rank</th>\n",
       "      <td>1.000000</td>\n",
       "      <td>-0.530043</td>\n",
       "      <td>-0.065044</td>\n",
       "      <td>-0.969359</td>\n",
       "      <td>-0.152724</td>\n",
       "    </tr>\n",
       "    <tr>\n",
       "      <th>Won</th>\n",
       "      <td>-0.530043</td>\n",
       "      <td>1.000000</td>\n",
       "      <td>0.460404</td>\n",
       "      <td>0.561834</td>\n",
       "      <td>0.438219</td>\n",
       "    </tr>\n",
       "    <tr>\n",
       "      <th>Lost</th>\n",
       "      <td>-0.065044</td>\n",
       "      <td>0.460404</td>\n",
       "      <td>1.000000</td>\n",
       "      <td>0.074978</td>\n",
       "      <td>0.793153</td>\n",
       "    </tr>\n",
       "    <tr>\n",
       "      <th>Pct.</th>\n",
       "      <td>-0.969359</td>\n",
       "      <td>0.561834</td>\n",
       "      <td>0.074978</td>\n",
       "      <td>1.000000</td>\n",
       "      <td>0.219929</td>\n",
       "    </tr>\n",
       "    <tr>\n",
       "      <th>Total Games</th>\n",
       "      <td>-0.152724</td>\n",
       "      <td>0.438219</td>\n",
       "      <td>0.793153</td>\n",
       "      <td>0.219929</td>\n",
       "      <td>1.000000</td>\n",
       "    </tr>\n",
       "  </tbody>\n",
       "</table>\n",
       "</div>"
      ],
      "text/plain": [
       "                 Rank       Won      Lost      Pct.  Total Games\n",
       "Rank         1.000000 -0.530043 -0.065044 -0.969359    -0.152724\n",
       "Won         -0.530043  1.000000  0.460404  0.561834     0.438219\n",
       "Lost        -0.065044  0.460404  1.000000  0.074978     0.793153\n",
       "Pct.        -0.969359  0.561834  0.074978  1.000000     0.219929\n",
       "Total Games -0.152724  0.438219  0.793153  0.219929     1.000000"
      ]
     },
     "execution_count": 64,
     "metadata": {},
     "output_type": "execute_result"
    }
   ],
   "source": [
    "#matrice de corrélation NBA\n",
    "frameNBA.corr()"
   ]
  },
  {
   "cell_type": "code",
   "execution_count": 83,
   "metadata": {
    "collapsed": false
   },
   "outputs": [],
   "source": [
    "#importer demo-ventes.csv\n",
    "frameVentes=pd.read_csv(\"demo_ventes.csv\",sep=\";\")\n"
   ]
  },
  {
   "cell_type": "code",
   "execution_count": 71,
   "metadata": {
    "collapsed": false
   },
   "outputs": [],
   "source": [
    "#Importez un fichier Excel depuis python. On utilisera demo_excel.xlsx\n",
    "frameExcel=pd.ExcelFile(\"excel-data.xlsx\")\n",
    "frameExcel.sheet_names\n",
    "frameExcel=frameExcel.parse('sheet1')"
   ]
  },
  {
   "cell_type": "code",
   "execution_count": 72,
   "metadata": {
    "collapsed": false,
    "scrolled": true
   },
   "outputs": [
    {
     "data": {
      "text/html": [
       "<div>\n",
       "<table border=\"1\" class=\"dataframe\">\n",
       "  <thead>\n",
       "    <tr style=\"text-align: right;\">\n",
       "      <th></th>\n",
       "      <th>account</th>\n",
       "      <th>name</th>\n",
       "      <th>street</th>\n",
       "      <th>city</th>\n",
       "      <th>state</th>\n",
       "      <th>postal-code</th>\n",
       "    </tr>\n",
       "  </thead>\n",
       "  <tbody>\n",
       "    <tr>\n",
       "      <th>0</th>\n",
       "      <td>211829</td>\n",
       "      <td>Kerluke, Koepp and Hilpert</td>\n",
       "      <td>34456 Sean Highway</td>\n",
       "      <td>New Jaycob</td>\n",
       "      <td>Texas</td>\n",
       "      <td>28752</td>\n",
       "    </tr>\n",
       "    <tr>\n",
       "      <th>1</th>\n",
       "      <td>320563</td>\n",
       "      <td>Walter-Trantow</td>\n",
       "      <td>1311 Alvis Tunnel</td>\n",
       "      <td>Port Khadijah</td>\n",
       "      <td>NorthCarolina</td>\n",
       "      <td>38365</td>\n",
       "    </tr>\n",
       "    <tr>\n",
       "      <th>2</th>\n",
       "      <td>648336</td>\n",
       "      <td>Bashirian, Kunde and Price</td>\n",
       "      <td>62184 Schamberger Underpass Apt. 231</td>\n",
       "      <td>New Lilianland</td>\n",
       "      <td>Iowa</td>\n",
       "      <td>76517</td>\n",
       "    </tr>\n",
       "    <tr>\n",
       "      <th>3</th>\n",
       "      <td>109996</td>\n",
       "      <td>D'Amore, Gleichner and Bode</td>\n",
       "      <td>155 Fadel Crescent Apt. 144</td>\n",
       "      <td>Hyattburgh</td>\n",
       "      <td>Maine</td>\n",
       "      <td>46021</td>\n",
       "    </tr>\n",
       "    <tr>\n",
       "      <th>4</th>\n",
       "      <td>121213</td>\n",
       "      <td>Bauch-Goldner</td>\n",
       "      <td>7274 Marissa Common</td>\n",
       "      <td>Shanahanchester</td>\n",
       "      <td>California</td>\n",
       "      <td>49681</td>\n",
       "    </tr>\n",
       "  </tbody>\n",
       "</table>\n",
       "</div>"
      ],
      "text/plain": [
       "   account                         name                                street  \\\n",
       "0   211829   Kerluke, Koepp and Hilpert                    34456 Sean Highway   \n",
       "1   320563               Walter-Trantow                     1311 Alvis Tunnel   \n",
       "2   648336   Bashirian, Kunde and Price  62184 Schamberger Underpass Apt. 231   \n",
       "3   109996  D'Amore, Gleichner and Bode           155 Fadel Crescent Apt. 144   \n",
       "4   121213                Bauch-Goldner                   7274 Marissa Common   \n",
       "\n",
       "              city          state  postal-code  \n",
       "0       New Jaycob          Texas        28752  \n",
       "1    Port Khadijah  NorthCarolina        38365  \n",
       "2   New Lilianland           Iowa        76517  \n",
       "3       Hyattburgh          Maine        46021  \n",
       "4  Shanahanchester     California        49681  "
      ]
     },
     "execution_count": 72,
     "metadata": {},
     "output_type": "execute_result"
    }
   ],
   "source": [
    "frameExcel.head()"
   ]
  },
  {
   "cell_type": "code",
   "execution_count": 73,
   "metadata": {
    "collapsed": false,
    "scrolled": true
   },
   "outputs": [
    {
     "data": {
      "text/html": [
       "<div>\n",
       "<table border=\"1\" class=\"dataframe\">\n",
       "  <thead>\n",
       "    <tr style=\"text-align: right;\">\n",
       "      <th></th>\n",
       "      <th>account</th>\n",
       "      <th>name</th>\n",
       "      <th>street</th>\n",
       "      <th>city</th>\n",
       "      <th>state</th>\n",
       "      <th>postal-code</th>\n",
       "      <th>Jan</th>\n",
       "      <th>Feb</th>\n",
       "      <th>Mar</th>\n",
       "    </tr>\n",
       "  </thead>\n",
       "  <tbody>\n",
       "    <tr>\n",
       "      <th>0</th>\n",
       "      <td>211829</td>\n",
       "      <td>Kerluke, Koepp and Hilpert</td>\n",
       "      <td>34456 Sean Highway</td>\n",
       "      <td>New Jaycob</td>\n",
       "      <td>Texas</td>\n",
       "      <td>28752</td>\n",
       "      <td>10000</td>\n",
       "      <td>62000</td>\n",
       "      <td>35000</td>\n",
       "    </tr>\n",
       "    <tr>\n",
       "      <th>1</th>\n",
       "      <td>320563</td>\n",
       "      <td>Walter-Trantow</td>\n",
       "      <td>1311 Alvis Tunnel</td>\n",
       "      <td>Port Khadijah</td>\n",
       "      <td>NorthCarolina</td>\n",
       "      <td>38365</td>\n",
       "      <td>95000</td>\n",
       "      <td>45000</td>\n",
       "      <td>35000</td>\n",
       "    </tr>\n",
       "    <tr>\n",
       "      <th>2</th>\n",
       "      <td>648336</td>\n",
       "      <td>Bashirian, Kunde and Price</td>\n",
       "      <td>62184 Schamberger Underpass Apt. 231</td>\n",
       "      <td>New Lilianland</td>\n",
       "      <td>Iowa</td>\n",
       "      <td>76517</td>\n",
       "      <td>91000</td>\n",
       "      <td>120000</td>\n",
       "      <td>35000</td>\n",
       "    </tr>\n",
       "    <tr>\n",
       "      <th>3</th>\n",
       "      <td>109996</td>\n",
       "      <td>D'Amore, Gleichner and Bode</td>\n",
       "      <td>155 Fadel Crescent Apt. 144</td>\n",
       "      <td>Hyattburgh</td>\n",
       "      <td>Maine</td>\n",
       "      <td>46021</td>\n",
       "      <td>45000</td>\n",
       "      <td>120000</td>\n",
       "      <td>10000</td>\n",
       "    </tr>\n",
       "    <tr>\n",
       "      <th>4</th>\n",
       "      <td>121213</td>\n",
       "      <td>Bauch-Goldner</td>\n",
       "      <td>7274 Marissa Common</td>\n",
       "      <td>Shanahanchester</td>\n",
       "      <td>California</td>\n",
       "      <td>49681</td>\n",
       "      <td>162000</td>\n",
       "      <td>120000</td>\n",
       "      <td>35000</td>\n",
       "    </tr>\n",
       "  </tbody>\n",
       "</table>\n",
       "</div>"
      ],
      "text/plain": [
       "   account                         name                                street  \\\n",
       "0   211829   Kerluke, Koepp and Hilpert                    34456 Sean Highway   \n",
       "1   320563               Walter-Trantow                     1311 Alvis Tunnel   \n",
       "2   648336   Bashirian, Kunde and Price  62184 Schamberger Underpass Apt. 231   \n",
       "3   109996  D'Amore, Gleichner and Bode           155 Fadel Crescent Apt. 144   \n",
       "4   121213                Bauch-Goldner                   7274 Marissa Common   \n",
       "\n",
       "              city          state  postal-code     Jan     Feb    Mar  \n",
       "0       New Jaycob          Texas        28752   10000   62000  35000  \n",
       "1    Port Khadijah  NorthCarolina        38365   95000   45000  35000  \n",
       "2   New Lilianland           Iowa        76517   91000  120000  35000  \n",
       "3       Hyattburgh          Maine        46021   45000  120000  10000  \n",
       "4  Shanahanchester     California        49681  162000  120000  35000  "
      ]
     },
     "execution_count": 73,
     "metadata": {},
     "output_type": "execute_result"
    }
   ],
   "source": [
    "#jointure des deux dataframes\n",
    "frameComplet=pd.merge(frameExcel,frameVentes,on=\"account\",how='inner')\n",
    "frameComplet.head()"
   ]
  },
  {
   "cell_type": "code",
   "execution_count": 135,
   "metadata": {
    "collapsed": false,
    "scrolled": true
   },
   "outputs": [],
   "source": [
    "#concatener les données excel et les données ventes\n",
    "frameComplet2=pd.concat([frameVentes,frameExcel],axis=1)"
   ]
  },
  {
   "cell_type": "code",
   "execution_count": 77,
   "metadata": {
    "collapsed": false
   },
   "outputs": [],
   "source": [
    "#Créez un DataFrame avec comme variables 4 villes de différents pays et leur population.\n",
    "frame5=DataFrame({\"Ville\":[\"Paris\",\"Londres\",\"Lyon\",\"Berlin\"],\"Pop\":[6,8,2,3]})\n",
    "DicoPays={\"Paris\":\"France\",\"Londres\":\"GB\",\"Lyon\":\"France\",\"Berlin\":\"Allemagne\"}"
   ]
  },
  {
   "cell_type": "code",
   "execution_count": 80,
   "metadata": {
    "collapsed": false
   },
   "outputs": [],
   "source": [
    "frame5[\"Pays\"]=frame5[\"Ville\"].map(DicoPays)"
   ]
  },
  {
   "cell_type": "code",
   "execution_count": 85,
   "metadata": {
    "collapsed": false
   },
   "outputs": [
    {
     "data": {
      "text/plain": [
       "Index([u'account', u'Jan', u'Feb', u'Mar'], dtype='object')"
      ]
     },
     "execution_count": 85,
     "metadata": {},
     "output_type": "execute_result"
    }
   ],
   "source": [
    "#discrétisation de la variable jan\n",
    "frameVentes.columns"
   ]
  },
  {
   "cell_type": "code",
   "execution_count": 101,
   "metadata": {
    "collapsed": false
   },
   "outputs": [],
   "source": [
    "#discrétisation sur mesure\n",
    "frameVentes[\"Jan-disc\"]=pd.cut(frameVentes[\"Jan\"],[frameVentes.Jan.min(),30000,150000,\n",
    "                                                   frameVentes.Jan.max()],include_lowest=True)"
   ]
  },
  {
   "cell_type": "code",
   "execution_count": 102,
   "metadata": {
    "collapsed": false
   },
   "outputs": [
    {
     "data": {
      "text/plain": [
       "(30000, 150000]     12\n",
       "(150000, 162000]     2\n",
       "[10000, 30000]       1\n",
       "Name: Jan-disc, dtype: int64"
      ]
     },
     "execution_count": 102,
     "metadata": {},
     "output_type": "execute_result"
    }
   ],
   "source": [
    "pd.value_counts(frameVentes[\"Jan-disc\"])"
   ]
  },
  {
   "cell_type": "code",
   "execution_count": 103,
   "metadata": {
    "collapsed": true
   },
   "outputs": [],
   "source": [
    "#discrétisation avec fréquences égales\n",
    "frameVentes[\"Jan3\"]=pd.qcut(frameVentes[\"Jan\"],3)"
   ]
  },
  {
   "cell_type": "code",
   "execution_count": 105,
   "metadata": {
    "collapsed": false
   },
   "outputs": [
    {
     "data": {
      "text/plain": [
       "(146666.667, 162000]       5\n",
       "(67333.333, 146666.667]    5\n",
       "[10000, 67333.333]         5\n",
       "Name: Jan3, dtype: int64"
      ]
     },
     "execution_count": 105,
     "metadata": {},
     "output_type": "execute_result"
    }
   ],
   "source": [
    "pd.value_counts(frameVentes.Jan3)"
   ]
  },
  {
   "cell_type": "code",
   "execution_count": 107,
   "metadata": {
    "collapsed": false
   },
   "outputs": [],
   "source": [
    "#Permutez les éléments du dataframe ventes\n",
    "permut=np.random.permutation(frameVentes.index)\n",
    "permut\n",
    "frameVentesPermut=frameVentes.take(permut)"
   ]
  },
  {
   "cell_type": "code",
   "execution_count": 109,
   "metadata": {
    "collapsed": true
   },
   "outputs": [],
   "source": [
    "#utilisation du groupby\n",
    "#=frame.groupby(\"var\")\n",
    "grouperNBA=frameNBA.groupby(\"Division\")"
   ]
  },
  {
   "cell_type": "code",
   "execution_count": 116,
   "metadata": {
    "collapsed": false,
    "scrolled": true
   },
   "outputs": [
    {
     "data": {
      "text/html": [
       "<div>\n",
       "<table border=\"1\" class=\"dataframe\">\n",
       "  <thead>\n",
       "    <tr style=\"text-align: right;\">\n",
       "      <th></th>\n",
       "      <th>Rank</th>\n",
       "      <th>Won</th>\n",
       "      <th>Lost</th>\n",
       "      <th>Pct.</th>\n",
       "      <th>Total Games</th>\n",
       "    </tr>\n",
       "    <tr>\n",
       "      <th>Division</th>\n",
       "      <th></th>\n",
       "      <th></th>\n",
       "      <th></th>\n",
       "      <th></th>\n",
       "      <th></th>\n",
       "    </tr>\n",
       "  </thead>\n",
       "  <tbody>\n",
       "    <tr>\n",
       "      <th>Atlantic</th>\n",
       "      <td>10.163661</td>\n",
       "      <td>1372.962600</td>\n",
       "      <td>725.214589</td>\n",
       "      <td>0.066428</td>\n",
       "      <td>1716.836568</td>\n",
       "    </tr>\n",
       "    <tr>\n",
       "      <th>Central</th>\n",
       "      <td>5.263079</td>\n",
       "      <td>394.249033</td>\n",
       "      <td>421.339175</td>\n",
       "      <td>0.022237</td>\n",
       "      <td>796.928039</td>\n",
       "    </tr>\n",
       "    <tr>\n",
       "      <th>Northwest</th>\n",
       "      <td>10.876580</td>\n",
       "      <td>508.133841</td>\n",
       "      <td>194.676141</td>\n",
       "      <td>0.063208</td>\n",
       "      <td>1354.302034</td>\n",
       "    </tr>\n",
       "    <tr>\n",
       "      <th>Pacific</th>\n",
       "      <td>11.970798</td>\n",
       "      <td>1121.134113</td>\n",
       "      <td>495.578147</td>\n",
       "      <td>0.081003</td>\n",
       "      <td>878.225882</td>\n",
       "    </tr>\n",
       "    <tr>\n",
       "      <th>Southeast</th>\n",
       "      <td>6.760178</td>\n",
       "      <td>751.320637</td>\n",
       "      <td>790.035949</td>\n",
       "      <td>0.033767</td>\n",
       "      <td>1517.246519</td>\n",
       "    </tr>\n",
       "    <tr>\n",
       "      <th>Southwest</th>\n",
       "      <td>10.406729</td>\n",
       "      <td>715.289312</td>\n",
       "      <td>491.070260</td>\n",
       "      <td>0.076228</td>\n",
       "      <td>1191.319101</td>\n",
       "    </tr>\n",
       "  </tbody>\n",
       "</table>\n",
       "</div>"
      ],
      "text/plain": [
       "                Rank          Won        Lost      Pct.  Total Games\n",
       "Division                                                            \n",
       "Atlantic   10.163661  1372.962600  725.214589  0.066428  1716.836568\n",
       "Central     5.263079   394.249033  421.339175  0.022237   796.928039\n",
       "Northwest  10.876580   508.133841  194.676141  0.063208  1354.302034\n",
       "Pacific    11.970798  1121.134113  495.578147  0.081003   878.225882\n",
       "Southeast   6.760178   751.320637  790.035949  0.033767  1517.246519\n",
       "Southwest  10.406729   715.289312  491.070260  0.076228  1191.319101"
      ]
     },
     "execution_count": 116,
     "metadata": {},
     "output_type": "execute_result"
    }
   ],
   "source": [
    "grouperNBA.describe()\n",
    "grouperNBA.mean()\n",
    "grouperNBA.agg(\"std\")"
   ]
  },
  {
   "cell_type": "code",
   "execution_count": 133,
   "metadata": {
    "collapsed": false
   },
   "outputs": [],
   "source": [
    "#Créez un objet Series et ajoutez des dates partant du 3 décembre 2015 \n",
    "#par jour jusqu’à aujourd’hui.\n",
    "#generation des données\n",
    "ser3=Series(np.random.randn(100))\n",
    "#génération des dates\n",
    "date=pd.date_range(\"20151203\",periods=100,freq='D')\n",
    "#association des dates aux données\n",
    "ser3.index=date"
   ]
  },
  {
   "cell_type": "code",
   "execution_count": 134,
   "metadata": {
    "collapsed": false
   },
   "outputs": [
    {
     "data": {
      "text/plain": [
       "2015-12-03    1.553132\n",
       "2015-12-04    1.206422\n",
       "2015-12-05   -0.008008\n",
       "2015-12-06    1.903628\n",
       "2015-12-07    0.007218\n",
       "2015-12-08   -0.422825\n",
       "2015-12-09   -0.533050\n",
       "2015-12-10    0.602060\n",
       "2015-12-11   -0.503094\n",
       "2015-12-12   -0.118028\n",
       "2015-12-13   -0.013994\n",
       "2015-12-14    2.230208\n",
       "2015-12-15    0.094135\n",
       "2015-12-16    0.166114\n",
       "2015-12-17   -0.419523\n",
       "2015-12-18   -0.527626\n",
       "2015-12-19    0.716018\n",
       "2015-12-20   -0.833614\n",
       "2015-12-21    0.637442\n",
       "2015-12-22    0.499270\n",
       "2015-12-23    0.198252\n",
       "2015-12-24   -0.859054\n",
       "2015-12-25    1.814778\n",
       "2015-12-26   -1.676340\n",
       "2015-12-27    0.369972\n",
       "2015-12-28    1.618688\n",
       "2015-12-29   -0.977083\n",
       "2015-12-30   -0.481010\n",
       "2015-12-31    2.506789\n",
       "2016-01-01   -0.458891\n",
       "                ...   \n",
       "2016-02-11    0.577597\n",
       "2016-02-12   -0.767440\n",
       "2016-02-13   -0.283420\n",
       "2016-02-14   -0.272449\n",
       "2016-02-15    2.384007\n",
       "2016-02-16    0.314617\n",
       "2016-02-17    2.209855\n",
       "2016-02-18    0.520040\n",
       "2016-02-19    0.204412\n",
       "2016-02-20   -0.922847\n",
       "2016-02-21   -0.699625\n",
       "2016-02-22   -1.016299\n",
       "2016-02-23    0.112439\n",
       "2016-02-24   -0.014268\n",
       "2016-02-25    0.679290\n",
       "2016-02-26    1.547724\n",
       "2016-02-27    1.033191\n",
       "2016-02-28   -0.111434\n",
       "2016-02-29   -0.929035\n",
       "2016-03-01    0.915966\n",
       "2016-03-02   -1.357188\n",
       "2016-03-03   -0.104260\n",
       "2016-03-04    1.044435\n",
       "2016-03-05    0.515409\n",
       "2016-03-06   -0.202357\n",
       "2016-03-07   -0.023941\n",
       "2016-03-08    1.488558\n",
       "2016-03-09    0.318268\n",
       "2016-03-10    1.116030\n",
       "2016-03-11    0.460018\n",
       "Freq: D, dtype: float64"
      ]
     },
     "execution_count": 134,
     "metadata": {},
     "output_type": "execute_result"
    }
   ],
   "source": [
    "ser3"
   ]
  }
 ],
 "metadata": {
  "kernelspec": {
   "display_name": "Python 2",
   "language": "python",
   "name": "python2"
  },
  "language_info": {
   "codemirror_mode": {
    "name": "ipython",
    "version": 2
   },
   "file_extension": ".py",
   "mimetype": "text/x-python",
   "name": "python",
   "nbconvert_exporter": "python",
   "pygments_lexer": "ipython2",
   "version": "2.7.11"
  }
 },
 "nbformat": 4,
 "nbformat_minor": 0
}
