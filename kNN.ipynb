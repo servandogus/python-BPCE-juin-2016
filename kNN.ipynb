{
 "cells": [
  {
   "cell_type": "code",
   "execution_count": 1,
   "metadata": {
    "collapsed": true
   },
   "outputs": [],
   "source": [
    "import numpy as np\n",
    "import pandas as pd\n",
    "import matplotlib.pyplot as plt\n",
    "%matplotlib inline"
   ]
  },
  {
   "cell_type": "code",
   "execution_count": 3,
   "metadata": {
    "collapsed": false
   },
   "outputs": [],
   "source": [
    "#récupération des données\n",
    "nba=pd.read_csv(\"nba_2013.csv\")"
   ]
  },
  {
   "cell_type": "code",
   "execution_count": 5,
   "metadata": {
    "collapsed": false
   },
   "outputs": [
    {
     "data": {
      "text/html": [
       "<div>\n",
       "<table border=\"1\" class=\"dataframe\">\n",
       "  <thead>\n",
       "    <tr style=\"text-align: right;\">\n",
       "      <th></th>\n",
       "      <th>player</th>\n",
       "      <th>pos</th>\n",
       "      <th>age</th>\n",
       "      <th>bref_team_id</th>\n",
       "      <th>g</th>\n",
       "      <th>gs</th>\n",
       "      <th>mp</th>\n",
       "      <th>fg</th>\n",
       "      <th>fga</th>\n",
       "      <th>fg.</th>\n",
       "      <th>...</th>\n",
       "      <th>drb</th>\n",
       "      <th>trb</th>\n",
       "      <th>ast</th>\n",
       "      <th>stl</th>\n",
       "      <th>blk</th>\n",
       "      <th>tov</th>\n",
       "      <th>pf</th>\n",
       "      <th>pts</th>\n",
       "      <th>season</th>\n",
       "      <th>season_end</th>\n",
       "    </tr>\n",
       "  </thead>\n",
       "  <tbody>\n",
       "    <tr>\n",
       "      <th>344</th>\n",
       "      <td>Tony Parker</td>\n",
       "      <td>PG</td>\n",
       "      <td>31</td>\n",
       "      <td>SAS</td>\n",
       "      <td>68</td>\n",
       "      <td>68</td>\n",
       "      <td>1997</td>\n",
       "      <td>456</td>\n",
       "      <td>914</td>\n",
       "      <td>0.499</td>\n",
       "      <td>...</td>\n",
       "      <td>138</td>\n",
       "      <td>155</td>\n",
       "      <td>388</td>\n",
       "      <td>36</td>\n",
       "      <td>9</td>\n",
       "      <td>151</td>\n",
       "      <td>86</td>\n",
       "      <td>1134</td>\n",
       "      <td>2013-2014</td>\n",
       "      <td>2013</td>\n",
       "    </tr>\n",
       "  </tbody>\n",
       "</table>\n",
       "<p>1 rows × 31 columns</p>\n",
       "</div>"
      ],
      "text/plain": [
       "          player pos  age bref_team_id   g  gs    mp   fg  fga    fg.  \\\n",
       "344  Tony Parker  PG   31          SAS  68  68  1997  456  914  0.499   \n",
       "\n",
       "        ...      drb  trb  ast  stl  blk  tov  pf   pts     season  season_end  \n",
       "344     ...      138  155  388   36    9  151  86  1134  2013-2014        2013  \n",
       "\n",
       "[1 rows x 31 columns]"
      ]
     },
     "execution_count": 5,
     "metadata": {},
     "output_type": "execute_result"
    }
   ],
   "source": [
    "nba[nba.player==\"Tony Parker\"]"
   ]
  },
  {
   "cell_type": "code",
   "execution_count": 8,
   "metadata": {
    "collapsed": false
   },
   "outputs": [
    {
     "data": {
      "text/plain": [
       "player          Tony Parker\n",
       "pos                      PG\n",
       "age                      31\n",
       "bref_team_id            SAS\n",
       "g                        68\n",
       "gs                       68\n",
       "mp                     1997\n",
       "fg                      456\n",
       "fga                     914\n",
       "fg.                   0.499\n",
       "x3p                      25\n",
       "x3pa                     67\n",
       "x3p.               0.373134\n",
       "x2p                     431\n",
       "x2pa                    847\n",
       "x2p.               0.508855\n",
       "efg.                  0.513\n",
       "ft                      197\n",
       "fta                     243\n",
       "ft.                   0.811\n",
       "orb                      17\n",
       "drb                     138\n",
       "trb                     155\n",
       "ast                     388\n",
       "stl                      36\n",
       "blk                       9\n",
       "tov                     151\n",
       "pf                       86\n",
       "pts                    1134\n",
       "season            2013-2014\n",
       "season_end             2013\n",
       "Name: 344, dtype: object"
      ]
     },
     "execution_count": 8,
     "metadata": {},
     "output_type": "execute_result"
    }
   ],
   "source": [
    "nba[nba.player==\"Tony Parker\"].iloc[0]"
   ]
  },
  {
   "cell_type": "code",
   "execution_count": 9,
   "metadata": {
    "collapsed": false
   },
   "outputs": [
    {
     "name": "stdout",
     "output_type": "stream",
     "text": [
      "<class 'pandas.core.frame.DataFrame'>\n",
      "RangeIndex: 481 entries, 0 to 480\n",
      "Data columns (total 31 columns):\n",
      "player          481 non-null object\n",
      "pos             481 non-null object\n",
      "age             481 non-null int64\n",
      "bref_team_id    481 non-null object\n",
      "g               481 non-null int64\n",
      "gs              481 non-null int64\n",
      "mp              481 non-null int64\n",
      "fg              481 non-null int64\n",
      "fga             481 non-null int64\n",
      "fg.             479 non-null float64\n",
      "x3p             481 non-null int64\n",
      "x3pa            481 non-null int64\n",
      "x3p.            414 non-null float64\n",
      "x2p             481 non-null int64\n",
      "x2pa            481 non-null int64\n",
      "x2p.            478 non-null float64\n",
      "efg.            479 non-null float64\n",
      "ft              481 non-null int64\n",
      "fta             481 non-null int64\n",
      "ft.             461 non-null float64\n",
      "orb             481 non-null int64\n",
      "drb             481 non-null int64\n",
      "trb             481 non-null int64\n",
      "ast             481 non-null int64\n",
      "stl             481 non-null int64\n",
      "blk             481 non-null int64\n",
      "tov             481 non-null int64\n",
      "pf              481 non-null int64\n",
      "pts             481 non-null int64\n",
      "season          481 non-null object\n",
      "season_end      481 non-null int64\n",
      "dtypes: float64(5), int64(22), object(4)\n",
      "memory usage: 116.6+ KB\n"
     ]
    }
   ],
   "source": [
    "nba.info()"
   ]
  },
  {
   "cell_type": "code",
   "execution_count": 10,
   "metadata": {
    "collapsed": true
   },
   "outputs": [],
   "source": [
    "#suppression des données manquantes\n",
    "nba2=nba.dropna()"
   ]
  },
  {
   "cell_type": "code",
   "execution_count": 11,
   "metadata": {
    "collapsed": false
   },
   "outputs": [
    {
     "name": "stdout",
     "output_type": "stream",
     "text": [
      "<class 'pandas.core.frame.DataFrame'>\n",
      "Int64Index: 403 entries, 0 to 480\n",
      "Data columns (total 31 columns):\n",
      "player          403 non-null object\n",
      "pos             403 non-null object\n",
      "age             403 non-null int64\n",
      "bref_team_id    403 non-null object\n",
      "g               403 non-null int64\n",
      "gs              403 non-null int64\n",
      "mp              403 non-null int64\n",
      "fg              403 non-null int64\n",
      "fga             403 non-null int64\n",
      "fg.             403 non-null float64\n",
      "x3p             403 non-null int64\n",
      "x3pa            403 non-null int64\n",
      "x3p.            403 non-null float64\n",
      "x2p             403 non-null int64\n",
      "x2pa            403 non-null int64\n",
      "x2p.            403 non-null float64\n",
      "efg.            403 non-null float64\n",
      "ft              403 non-null int64\n",
      "fta             403 non-null int64\n",
      "ft.             403 non-null float64\n",
      "orb             403 non-null int64\n",
      "drb             403 non-null int64\n",
      "trb             403 non-null int64\n",
      "ast             403 non-null int64\n",
      "stl             403 non-null int64\n",
      "blk             403 non-null int64\n",
      "tov             403 non-null int64\n",
      "pf              403 non-null int64\n",
      "pts             403 non-null int64\n",
      "season          403 non-null object\n",
      "season_end      403 non-null int64\n",
      "dtypes: float64(5), int64(22), object(4)\n",
      "memory usage: 100.8+ KB\n"
     ]
    }
   ],
   "source": [
    "nba2.info()"
   ]
  },
  {
   "cell_type": "code",
   "execution_count": 15,
   "metadata": {
    "collapsed": false
   },
   "outputs": [],
   "source": [
    "#création des indices permutés\n",
    "permut=np.random.permutation(nba2.index)"
   ]
  },
  {
   "cell_type": "code",
   "execution_count": 21,
   "metadata": {
    "collapsed": false
   },
   "outputs": [
    {
     "name": "stderr",
     "output_type": "stream",
     "text": [
      "C:\\Anaconda2\\lib\\site-packages\\ipykernel\\__main__.py:1: VisibleDeprecationWarning: using a non-integer number instead of an integer will result in an error in the future\n",
      "  if __name__ == '__main__':\n",
      "C:\\Anaconda2\\lib\\site-packages\\ipykernel\\__main__.py:2: VisibleDeprecationWarning: using a non-integer number instead of an integer will result in an error in the future\n",
      "  from ipykernel import kernelapp as app\n"
     ]
    }
   ],
   "source": [
    "#création des échantillons test / apprentissage\n",
    "test=nba2.loc[permut[:round(len(permut)*0.3)]]\n",
    "train =nba2.loc[permut[round(len(permut)*0.3):]]"
   ]
  },
  {
   "cell_type": "code",
   "execution_count": 23,
   "metadata": {
    "collapsed": false,
    "scrolled": false
   },
   "outputs": [],
   "source": [
    "from sklearn.cross_validation import train_test_split"
   ]
  },
  {
   "cell_type": "code",
   "execution_count": 24,
   "metadata": {
    "collapsed": true
   },
   "outputs": [],
   "source": [
    "#création des échantillons test / apprentissage\n",
    "train, test = train_test_split(nba2,test_size=0.3)"
   ]
  },
  {
   "cell_type": "code",
   "execution_count": 26,
   "metadata": {
    "collapsed": false
   },
   "outputs": [],
   "source": [
    "from sklearn.neighbors import KNeighborsRegressor"
   ]
  },
  {
   "cell_type": "code",
   "execution_count": 27,
   "metadata": {
    "collapsed": true
   },
   "outputs": [],
   "source": [
    "#création de l'objet kNN\n",
    "knn=KNeighborsRegressor(n_neighbors=9)"
   ]
  },
  {
   "cell_type": "code",
   "execution_count": 29,
   "metadata": {
    "collapsed": false
   },
   "outputs": [],
   "source": [
    "train.columns\n",
    "x_col=[u'g', u'gs', u'mp', u'fg',\n",
    "       u'fga', u'fg.', u'x3p', u'x3pa', u'x3p.', u'x2p', u'x2pa', u'x2p.',\n",
    "       u'efg.', u'ft', u'fta', u'ft.', u'orb', u'drb', u'trb', u'ast', u'stl',\n",
    "       u'blk', u'tov', u'pf']"
   ]
  },
  {
   "cell_type": "code",
   "execution_count": 31,
   "metadata": {
    "collapsed": false
   },
   "outputs": [
    {
     "data": {
      "text/plain": [
       "KNeighborsRegressor(algorithm='auto', leaf_size=30, metric='minkowski',\n",
       "          metric_params=None, n_jobs=1, n_neighbors=9, p=2,\n",
       "          weights='uniform')"
      ]
     },
     "execution_count": 31,
     "metadata": {},
     "output_type": "execute_result"
    }
   ],
   "source": [
    "#ajustement du modèle\n",
    "knn.fit(train[x_col],train['pts'])"
   ]
  },
  {
   "cell_type": "code",
   "execution_count": 34,
   "metadata": {
    "collapsed": false
   },
   "outputs": [],
   "source": [
    "#prediction\n",
    "prediction=knn.predict(test[x_col])"
   ]
  },
  {
   "cell_type": "code",
   "execution_count": 37,
   "metadata": {
    "collapsed": false
   },
   "outputs": [
    {
     "data": {
      "text/plain": [
       "<matplotlib.collections.PathCollection at 0xb8e5b70>"
      ]
     },
     "execution_count": 37,
     "metadata": {},
     "output_type": "execute_result"
    },
    {
     "data": {
      "image/png": "[encoded data removed]",
      "text/plain": [
       "<matplotlib.figure.Figure at 0xa299c18>"
      ]
     },
     "metadata": {},
     "output_type": "display_data"
    }
   ],
   "source": [
    "plt.scatter(prediction, test[\"pts\"])"
   ]
  }
 ],
 "metadata": {
  "kernelspec": {
   "display_name": "Python 2",
   "language": "python",
   "name": "python2"
  },
  "language_info": {
   "codemirror_mode": {
    "name": "ipython",
    "version": 2
   },
   "file_extension": ".py",
   "mimetype": "text/x-python",
   "name": "python",
   "nbconvert_exporter": "python",
   "pygments_lexer": "ipython2",
   "version": "2.7.11"
  }
 },
 "nbformat": 4,
 "nbformat_minor": 0
}
